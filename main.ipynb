{
 "cells": [
  {
   "cell_type": "code",
   "execution_count": 1,
   "metadata": {},
   "outputs": [],
   "source": [
    "import pandas as pd"
   ]
  },
  {
   "cell_type": "code",
   "execution_count": 9,
   "metadata": {},
   "outputs": [
    {
     "data": {
      "text/html": [
       "<div>\n",
       "<style scoped>\n",
       "    .dataframe tbody tr th:only-of-type {\n",
       "        vertical-align: middle;\n",
       "    }\n",
       "\n",
       "    .dataframe tbody tr th {\n",
       "        vertical-align: top;\n",
       "    }\n",
       "\n",
       "    .dataframe thead th {\n",
       "        text-align: right;\n",
       "    }\n",
       "</style>\n",
       "<table border=\"1\" class=\"dataframe\">\n",
       "  <thead>\n",
       "    <tr style=\"text-align: right;\">\n",
       "      <th></th>\n",
       "      <th>_id</th>\n",
       "      <th>co_uf</th>\n",
       "      <th>no_uf</th>\n",
       "      <th>ano</th>\n",
       "      <th>variavel</th>\n",
       "      <th>social_categoria</th>\n",
       "      <th>social_subcategoria</th>\n",
       "      <th>valor</th>\n",
       "    </tr>\n",
       "  </thead>\n",
       "  <tbody>\n",
       "    <tr>\n",
       "      <th>0</th>\n",
       "      <td>1</td>\n",
       "      <td>11</td>\n",
       "      <td>Rondônia</td>\n",
       "      <td>2012</td>\n",
       "      <td>Assistência Social</td>\n",
       "      <td>CadÚnico</td>\n",
       "      <td>Quantidade de famílias cadastradas com renda p...</td>\n",
       "      <td>24839.0</td>\n",
       "    </tr>\n",
       "    <tr>\n",
       "      <th>1</th>\n",
       "      <td>2</td>\n",
       "      <td>11</td>\n",
       "      <td>Rondônia</td>\n",
       "      <td>2012</td>\n",
       "      <td>Assistência Social</td>\n",
       "      <td>CadÚnico</td>\n",
       "      <td>Quantidade de famílias cadastradas com renda p...</td>\n",
       "      <td>111275.0</td>\n",
       "    </tr>\n",
       "    <tr>\n",
       "      <th>2</th>\n",
       "      <td>3</td>\n",
       "      <td>11</td>\n",
       "      <td>Rondônia</td>\n",
       "      <td>2012</td>\n",
       "      <td>Assistência Social</td>\n",
       "      <td>CadÚnico</td>\n",
       "      <td>Quantidade de famílias cadastradas com renda p...</td>\n",
       "      <td>55947.0</td>\n",
       "    </tr>\n",
       "    <tr>\n",
       "      <th>3</th>\n",
       "      <td>4</td>\n",
       "      <td>11</td>\n",
       "      <td>Rondônia</td>\n",
       "      <td>2012</td>\n",
       "      <td>Assistência Social</td>\n",
       "      <td>CadÚnico</td>\n",
       "      <td>Quantidade de famílias cadastradas com renda p...</td>\n",
       "      <td>31536.0</td>\n",
       "    </tr>\n",
       "    <tr>\n",
       "      <th>4</th>\n",
       "      <td>5</td>\n",
       "      <td>11</td>\n",
       "      <td>Rondônia</td>\n",
       "      <td>2012</td>\n",
       "      <td>Assistência Social</td>\n",
       "      <td>CadÚnico</td>\n",
       "      <td>Quantidade de pessoas cadastradas em famílias ...</td>\n",
       "      <td>37969.0</td>\n",
       "    </tr>\n",
       "  </tbody>\n",
       "</table>\n",
       "</div>"
      ],
      "text/plain": [
       "   _id  co_uf     no_uf   ano            variavel social_categoria  \\\n",
       "0    1     11  Rondônia  2012  Assistência Social         CadÚnico   \n",
       "1    2     11  Rondônia  2012  Assistência Social         CadÚnico   \n",
       "2    3     11  Rondônia  2012  Assistência Social         CadÚnico   \n",
       "3    4     11  Rondônia  2012  Assistência Social         CadÚnico   \n",
       "4    5     11  Rondônia  2012  Assistência Social         CadÚnico   \n",
       "\n",
       "                                 social_subcategoria     valor  \n",
       "0  Quantidade de famílias cadastradas com renda p...   24839.0  \n",
       "1  Quantidade de famílias cadastradas com renda p...  111275.0  \n",
       "2  Quantidade de famílias cadastradas com renda p...   55947.0  \n",
       "3  Quantidade de famílias cadastradas com renda p...   31536.0  \n",
       "4  Quantidade de pessoas cadastradas em famílias ...   37969.0  "
      ]
     },
     "execution_count": 9,
     "metadata": {},
     "output_type": "execute_result"
    }
   ],
   "source": [
    "# leitura da base de dados\n",
    "df = pd.read_csv('data/dados_bruto.csv')\n",
    "\n",
    "df.head()"
   ]
  },
  {
   "cell_type": "code",
   "execution_count": 10,
   "metadata": {},
   "outputs": [
    {
     "data": {
      "text/plain": [
       "array(['Quantidade de famílias cadastradas com renda per capita mensal acima de meio salário mínimo (FAIXA 4****)',\n",
       "       'Quantidade de famílias cadastradas com renda per capita mensal na FAIXA 1*',\n",
       "       'Quantidade de famílias cadastradas com renda per capita mensal na FAIXA 2**',\n",
       "       'Quantidade de famílias cadastradas com renda per capita mensal na FAIXA 3***',\n",
       "       'Quantidade de pessoas cadastradas em famílias com renda per capita mensal acima de meio salário mínimo (FAIXA 4****)',\n",
       "       'Quantidade de pessoas cadastradas em famílias com renda per capita mensal na FAIXA 1*',\n",
       "       'Quantidade de pessoas cadastradas em famílias com renda per capita mensal na FAIXA 2**',\n",
       "       'Quantidade de pessoas cadastradas em famílias com renda per capita mensal na FAIXA 3***',\n",
       "       'Quantidade total de famílias cadastradas',\n",
       "       'Quantidade total de famílias cadastradas com renda per capita mensal até meio salário mínimo (FAIXAS 1, 2 e 3)*',\n",
       "       'Quantidade total de pessoas cadastradas',\n",
       "       'Quantidade total de pessoas cadastradas em famílias com renda per capita mensal até meio salário mínimo (FAIXAS 1, 2 e 3)*',\n",
       "       'Quantidade de famílias beneficiárias do Programa Bolsa Família/Auxílio Brasil com algum membro em situação de trabalho infantil',\n",
       "       'Quantidade de famílias cadastradas com algum membro em situação de trabalho infantil',\n",
       "       'Quantidade de famílias com os cadastros atualizados e com renda per capita mensal até meio salário mínimo',\n",
       "       'Quantidade total de famílias com os cadastros atualizados',\n",
       "       'Taxa de atualização cadastral - a taxa é obtida pela divisão do Total de Famílias com cadastro atualizado pelo Total de Famílias cadastradas no Cadastro Único.',\n",
       "       'Taxa de atualização cadastral até 1/2 Sal. min. - a taxa é obtida pela divisão do Total de Famílias com renda até 1/2 Sal. min. com cadastro atualizado pelo Total de Famílias cadastradas com renda até 1/2 Sal. min. no Cadastro Único.'],\n",
       "      dtype=object)"
      ]
     },
     "execution_count": 10,
     "metadata": {},
     "output_type": "execute_result"
    }
   ],
   "source": [
    "# pritando os valores da coluna social_subcategoria\n",
    "df['social_subcategoria'].unique()"
   ]
  }
 ],
 "metadata": {
  "kernelspec": {
   "display_name": "ambiente",
   "language": "python",
   "name": "ambiente"
  },
  "language_info": {
   "codemirror_mode": {
    "name": "ipython",
    "version": 3
   },
   "file_extension": ".py",
   "mimetype": "text/x-python",
   "name": "python",
   "nbconvert_exporter": "python",
   "pygments_lexer": "ipython3",
   "version": "3.10.4"
  },
  "orig_nbformat": 4
 },
 "nbformat": 4,
 "nbformat_minor": 2
}
