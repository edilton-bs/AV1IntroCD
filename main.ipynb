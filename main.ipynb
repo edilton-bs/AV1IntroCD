{
 "cells": [
  {
   "cell_type": "markdown",
   "metadata": {},
   "source": [
    "### Importando pacotes e analisando a base de dados"
   ]
  },
  {
   "cell_type": "code",
   "execution_count": 20,
   "metadata": {},
   "outputs": [],
   "source": [
    "import pandas as pd\n",
    "import numpy as np\n",
    "import matplotlib.pyplot as plt\n",
    "import seaborn as sns"
   ]
  },
  {
   "cell_type": "code",
   "execution_count": 3,
   "metadata": {},
   "outputs": [
    {
     "data": {
      "text/html": [
       "<div>\n",
       "<style scoped>\n",
       "    .dataframe tbody tr th:only-of-type {\n",
       "        vertical-align: middle;\n",
       "    }\n",
       "\n",
       "    .dataframe tbody tr th {\n",
       "        vertical-align: top;\n",
       "    }\n",
       "\n",
       "    .dataframe thead th {\n",
       "        text-align: right;\n",
       "    }\n",
       "</style>\n",
       "<table border=\"1\" class=\"dataframe\">\n",
       "  <thead>\n",
       "    <tr style=\"text-align: right;\">\n",
       "      <th></th>\n",
       "      <th>_id</th>\n",
       "      <th>co_uf</th>\n",
       "      <th>no_uf</th>\n",
       "      <th>ano</th>\n",
       "      <th>variavel</th>\n",
       "      <th>social_categoria</th>\n",
       "      <th>social_subcategoria</th>\n",
       "      <th>valor</th>\n",
       "    </tr>\n",
       "  </thead>\n",
       "  <tbody>\n",
       "    <tr>\n",
       "      <th>0</th>\n",
       "      <td>1</td>\n",
       "      <td>11</td>\n",
       "      <td>Rondônia</td>\n",
       "      <td>2012</td>\n",
       "      <td>Assistência Social</td>\n",
       "      <td>CadÚnico</td>\n",
       "      <td>Quantidade de famílias cadastradas com renda p...</td>\n",
       "      <td>24839.0</td>\n",
       "    </tr>\n",
       "    <tr>\n",
       "      <th>1</th>\n",
       "      <td>2</td>\n",
       "      <td>11</td>\n",
       "      <td>Rondônia</td>\n",
       "      <td>2012</td>\n",
       "      <td>Assistência Social</td>\n",
       "      <td>CadÚnico</td>\n",
       "      <td>Quantidade de famílias cadastradas com renda p...</td>\n",
       "      <td>111275.0</td>\n",
       "    </tr>\n",
       "    <tr>\n",
       "      <th>2</th>\n",
       "      <td>3</td>\n",
       "      <td>11</td>\n",
       "      <td>Rondônia</td>\n",
       "      <td>2012</td>\n",
       "      <td>Assistência Social</td>\n",
       "      <td>CadÚnico</td>\n",
       "      <td>Quantidade de famílias cadastradas com renda p...</td>\n",
       "      <td>55947.0</td>\n",
       "    </tr>\n",
       "    <tr>\n",
       "      <th>3</th>\n",
       "      <td>4</td>\n",
       "      <td>11</td>\n",
       "      <td>Rondônia</td>\n",
       "      <td>2012</td>\n",
       "      <td>Assistência Social</td>\n",
       "      <td>CadÚnico</td>\n",
       "      <td>Quantidade de famílias cadastradas com renda p...</td>\n",
       "      <td>31536.0</td>\n",
       "    </tr>\n",
       "    <tr>\n",
       "      <th>4</th>\n",
       "      <td>5</td>\n",
       "      <td>11</td>\n",
       "      <td>Rondônia</td>\n",
       "      <td>2012</td>\n",
       "      <td>Assistência Social</td>\n",
       "      <td>CadÚnico</td>\n",
       "      <td>Quantidade de pessoas cadastradas em famílias ...</td>\n",
       "      <td>37969.0</td>\n",
       "    </tr>\n",
       "  </tbody>\n",
       "</table>\n",
       "</div>"
      ],
      "text/plain": [
       "   _id  co_uf     no_uf   ano            variavel social_categoria  \\\n",
       "0    1     11  Rondônia  2012  Assistência Social         CadÚnico   \n",
       "1    2     11  Rondônia  2012  Assistência Social         CadÚnico   \n",
       "2    3     11  Rondônia  2012  Assistência Social         CadÚnico   \n",
       "3    4     11  Rondônia  2012  Assistência Social         CadÚnico   \n",
       "4    5     11  Rondônia  2012  Assistência Social         CadÚnico   \n",
       "\n",
       "                                 social_subcategoria     valor  \n",
       "0  Quantidade de famílias cadastradas com renda p...   24839.0  \n",
       "1  Quantidade de famílias cadastradas com renda p...  111275.0  \n",
       "2  Quantidade de famílias cadastradas com renda p...   55947.0  \n",
       "3  Quantidade de famílias cadastradas com renda p...   31536.0  \n",
       "4  Quantidade de pessoas cadastradas em famílias ...   37969.0  "
      ]
     },
     "execution_count": 3,
     "metadata": {},
     "output_type": "execute_result"
    }
   ],
   "source": [
    "# leitura da base de dados\n",
    "df = pd.read_csv('https://raw.githubusercontent.com/edilton-bs/AV1IntroCD/main/data/dados_bruto.csv')\n",
    "\n",
    "df.head()"
   ]
  },
  {
   "cell_type": "code",
   "execution_count": 4,
   "metadata": {},
   "outputs": [
    {
     "name": "stdout",
     "output_type": "stream",
     "text": [
      "<class 'pandas.core.frame.DataFrame'>\n",
      "RangeIndex: 4860 entries, 0 to 4859\n",
      "Data columns (total 8 columns):\n",
      " #   Column               Non-Null Count  Dtype  \n",
      "---  ------               --------------  -----  \n",
      " 0   _id                  4860 non-null   int64  \n",
      " 1   co_uf                4860 non-null   int64  \n",
      " 2   no_uf                4860 non-null   object \n",
      " 3   ano                  4860 non-null   int64  \n",
      " 4   variavel             4860 non-null   object \n",
      " 5   social_categoria     4860 non-null   object \n",
      " 6   social_subcategoria  4860 non-null   object \n",
      " 7   valor                4860 non-null   float64\n",
      "dtypes: float64(1), int64(3), object(4)\n",
      "memory usage: 227.9+ KB\n"
     ]
    }
   ],
   "source": [
    "# informações sobre os tipos das variáveis\n",
    "df.info()"
   ]
  },
  {
   "cell_type": "markdown",
   "metadata": {},
   "source": [
    "Sem dados faltantes."
   ]
  },
  {
   "cell_type": "code",
   "execution_count": 5,
   "metadata": {},
   "outputs": [
    {
     "data": {
      "text/plain": [
       "_id                    0\n",
       "co_uf                  0\n",
       "no_uf                  0\n",
       "ano                    0\n",
       "variavel               0\n",
       "social_categoria       0\n",
       "social_subcategoria    0\n",
       "valor                  0\n",
       "dtype: int64"
      ]
     },
     "execution_count": 5,
     "metadata": {},
     "output_type": "execute_result"
    }
   ],
   "source": [
    "# verificando dados faltantes\n",
    "df.isnull().sum()"
   ]
  },
  {
   "cell_type": "code",
   "execution_count": 9,
   "metadata": {},
   "outputs": [
    {
     "data": {
      "text/plain": [
       "array(['Quantidade de famílias cadastradas com renda per capita mensal acima de meio salário mínimo (FAIXA 4****)',\n",
       "       'Quantidade de famílias cadastradas com renda per capita mensal na FAIXA 1*',\n",
       "       'Quantidade de famílias cadastradas com renda per capita mensal na FAIXA 2**',\n",
       "       'Quantidade de famílias cadastradas com renda per capita mensal na FAIXA 3***',\n",
       "       'Quantidade de pessoas cadastradas em famílias com renda per capita mensal acima de meio salário mínimo (FAIXA 4****)',\n",
       "       'Quantidade de pessoas cadastradas em famílias com renda per capita mensal na FAIXA 1*',\n",
       "       'Quantidade de pessoas cadastradas em famílias com renda per capita mensal na FAIXA 2**',\n",
       "       'Quantidade de pessoas cadastradas em famílias com renda per capita mensal na FAIXA 3***',\n",
       "       'Quantidade total de famílias cadastradas',\n",
       "       'Quantidade total de famílias cadastradas com renda per capita mensal até meio salário mínimo (FAIXAS 1, 2 e 3)*',\n",
       "       'Quantidade total de pessoas cadastradas',\n",
       "       'Quantidade total de pessoas cadastradas em famílias com renda per capita mensal até meio salário mínimo (FAIXAS 1, 2 e 3)*',\n",
       "       'Quantidade de famílias beneficiárias do Programa Bolsa Família/Auxílio Brasil com algum membro em situação de trabalho infantil',\n",
       "       'Quantidade de famílias cadastradas com algum membro em situação de trabalho infantil',\n",
       "       'Quantidade de famílias com os cadastros atualizados e com renda per capita mensal até meio salário mínimo',\n",
       "       'Quantidade total de famílias com os cadastros atualizados',\n",
       "       'Taxa de atualização cadastral - a taxa é obtida pela divisão do Total de Famílias com cadastro atualizado pelo Total de Famílias cadastradas no Cadastro Único.',\n",
       "       'Taxa de atualização cadastral até 1/2 Sal. min. - a taxa é obtida pela divisão do Total de Famílias com renda até 1/2 Sal. min. com cadastro atualizado pelo Total de Famílias cadastradas com renda até 1/2 Sal. min. no Cadastro Único.'],\n",
       "      dtype=object)"
      ]
     },
     "execution_count": 9,
     "metadata": {},
     "output_type": "execute_result"
    }
   ],
   "source": [
    "# valores da coluna social_subcategoria\n",
    "df['social_subcategoria'].unique()"
   ]
  },
  {
   "cell_type": "code",
   "execution_count": 10,
   "metadata": {},
   "outputs": [
    {
     "data": {
      "text/html": [
       "<div>\n",
       "<style scoped>\n",
       "    .dataframe tbody tr th:only-of-type {\n",
       "        vertical-align: middle;\n",
       "    }\n",
       "\n",
       "    .dataframe tbody tr th {\n",
       "        vertical-align: top;\n",
       "    }\n",
       "\n",
       "    .dataframe thead th {\n",
       "        text-align: right;\n",
       "    }\n",
       "</style>\n",
       "<table border=\"1\" class=\"dataframe\">\n",
       "  <thead>\n",
       "    <tr style=\"text-align: right;\">\n",
       "      <th></th>\n",
       "      <th>Abreviacao</th>\n",
       "    </tr>\n",
       "    <tr>\n",
       "      <th>social_subcategoria</th>\n",
       "      <th></th>\n",
       "    </tr>\n",
       "  </thead>\n",
       "  <tbody>\n",
       "    <tr>\n",
       "      <th>Quantidade de famílias cadastradas com renda per capita mensal acima de meio salário mínimo (FAIXA 4****)</th>\n",
       "      <td>Fam_Renda_Faixa4</td>\n",
       "    </tr>\n",
       "    <tr>\n",
       "      <th>Quantidade de famílias cadastradas com renda per capita mensal na FAIXA 1*</th>\n",
       "      <td>Fam_Renda_Faixa1</td>\n",
       "    </tr>\n",
       "    <tr>\n",
       "      <th>Quantidade de famílias cadastradas com renda per capita mensal na FAIXA 2**</th>\n",
       "      <td>Fam_Renda_Faixa2</td>\n",
       "    </tr>\n",
       "    <tr>\n",
       "      <th>Quantidade de famílias cadastradas com renda per capita mensal na FAIXA 3***</th>\n",
       "      <td>Fam_Renda_Faixa3</td>\n",
       "    </tr>\n",
       "    <tr>\n",
       "      <th>Quantidade de pessoas cadastradas em famílias com renda per capita mensal acima de meio salário mínimo (FAIXA 4****)</th>\n",
       "      <td>Pess_Renda_Faixa4</td>\n",
       "    </tr>\n",
       "  </tbody>\n",
       "</table>\n",
       "</div>"
      ],
      "text/plain": [
       "                                                           Abreviacao\n",
       "social_subcategoria                                                  \n",
       "Quantidade de famílias cadastradas com renda pe...   Fam_Renda_Faixa4\n",
       "Quantidade de famílias cadastradas com renda pe...   Fam_Renda_Faixa1\n",
       "Quantidade de famílias cadastradas com renda pe...   Fam_Renda_Faixa2\n",
       "Quantidade de famílias cadastradas com renda pe...   Fam_Renda_Faixa3\n",
       "Quantidade de pessoas cadastradas em famílias c...  Pess_Renda_Faixa4"
      ]
     },
     "execution_count": 10,
     "metadata": {},
     "output_type": "execute_result"
    }
   ],
   "source": [
    "# Dicionário com as abreviações\n",
    "abreviacoes = {\n",
    "    'Quantidade de famílias cadastradas com renda per capita mensal acima de meio salário mínimo (FAIXA 4****)': 'Fam_Renda_Faixa4',\n",
    "    'Quantidade de famílias cadastradas com renda per capita mensal na FAIXA 1*': 'Fam_Renda_Faixa1',\n",
    "    'Quantidade de famílias cadastradas com renda per capita mensal na FAIXA 2**': 'Fam_Renda_Faixa2',\n",
    "    'Quantidade de famílias cadastradas com renda per capita mensal na FAIXA 3***': 'Fam_Renda_Faixa3',\n",
    "    'Quantidade de pessoas cadastradas em famílias com renda per capita mensal acima de meio salário mínimo (FAIXA 4****)': 'Pess_Renda_Faixa4',\n",
    "    'Quantidade de pessoas cadastradas em famílias com renda per capita mensal na FAIXA 1*': 'Pess_Renda_Faixa1',\n",
    "    'Quantidade de pessoas cadastradas em famílias com renda per capita mensal na FAIXA 2**': 'Pess_Renda_Faixa2',\n",
    "    'Quantidade de pessoas cadastradas em famílias com renda per capita mensal na FAIXA 3***': 'Pess_Renda_Faixa3',\n",
    "    'Quantidade total de famílias cadastradas': 'Total_Fam_Cadastradas',\n",
    "    'Quantidade total de famílias cadastradas com renda per capita mensal até meio salário mínimo (FAIXAS 1, 2 e 3)*': 'Total_Fam_Renda_Meio_Salario',\n",
    "    'Quantidade total de pessoas cadastradas': 'Total_Pess_Cadastradas',\n",
    "    'Quantidade total de pessoas cadastradas em famílias com renda per capita mensal até meio salário mínimo (FAIXAS 1, 2 e 3)*': 'Total_Pess_Renda_Meio_Salario',\n",
    "    'Quantidade de famílias beneficiárias do Programa Bolsa Família/Auxílio Brasil com algum membro em situação de trabalho infantil': 'Fam_Benef_Trab_Infantil',\n",
    "    'Quantidade de famílias cadastradas com algum membro em situação de trabalho infantil': 'Fam_Cadas_Trab_Infantil',\n",
    "    'Quantidade de famílias com os cadastros atualizados e com renda per capita mensal até meio salário mínimo': 'Fam_Cadas_Atual_Renda_Meio_Salario',\n",
    "    'Quantidade total de famílias com os cadastros atualizados': 'Total_Fam_Cadas_Atual',\n",
    "    'Taxa de atualização cadastral - a taxa é obtida pela divisão do Total de Famílias com cadastro atualizado pelo Total de Famílias cadastradas no Cadastro Único.': 'Taxa_Atualizacao_Cadastral',\n",
    "    'Taxa de atualização cadastral até 1/2 Sal. min. - a taxa é obtida pela divisão do Total de Famílias com renda até 1/2 Sal. min. com cadastro atualizado pelo Total de Famílias cadastradas com renda até 1/2 Sal. min. no Cadastro Único.': 'Taxa_Atual_Renda_Meio_Salario'\n",
    "}\n",
    "\n",
    "# Criando o novo dataframe\n",
    "df_abreviacoes = pd.DataFrame(list(abreviacoes.items()), columns=['social_subcategoria', 'Abreviacao'])\n",
    "df_abreviacoes.set_index('social_subcategoria', inplace=True)\n",
    "df_abreviacoes.head()\n"
   ]
  },
  {
   "cell_type": "code",
   "execution_count": 11,
   "metadata": {},
   "outputs": [
    {
     "data": {
      "text/html": [
       "<div>\n",
       "<style scoped>\n",
       "    .dataframe tbody tr th:only-of-type {\n",
       "        vertical-align: middle;\n",
       "    }\n",
       "\n",
       "    .dataframe tbody tr th {\n",
       "        vertical-align: top;\n",
       "    }\n",
       "\n",
       "    .dataframe thead th {\n",
       "        text-align: right;\n",
       "    }\n",
       "</style>\n",
       "<table border=\"1\" class=\"dataframe\">\n",
       "  <thead>\n",
       "    <tr style=\"text-align: right;\">\n",
       "      <th></th>\n",
       "      <th>_id</th>\n",
       "      <th>co_uf</th>\n",
       "      <th>no_uf</th>\n",
       "      <th>ano</th>\n",
       "      <th>variavel</th>\n",
       "      <th>social_categoria</th>\n",
       "      <th>social_subcategoria</th>\n",
       "      <th>valor</th>\n",
       "      <th>Abreviacao</th>\n",
       "    </tr>\n",
       "  </thead>\n",
       "  <tbody>\n",
       "    <tr>\n",
       "      <th>0</th>\n",
       "      <td>1</td>\n",
       "      <td>11</td>\n",
       "      <td>Rondônia</td>\n",
       "      <td>2012</td>\n",
       "      <td>Assistência Social</td>\n",
       "      <td>CadÚnico</td>\n",
       "      <td>Quantidade de famílias cadastradas com renda p...</td>\n",
       "      <td>24839.0</td>\n",
       "      <td>Fam_Renda_Faixa4</td>\n",
       "    </tr>\n",
       "    <tr>\n",
       "      <th>1</th>\n",
       "      <td>13</td>\n",
       "      <td>11</td>\n",
       "      <td>Rondônia</td>\n",
       "      <td>2013</td>\n",
       "      <td>Assistência Social</td>\n",
       "      <td>CadÚnico</td>\n",
       "      <td>Quantidade de famílias cadastradas com renda p...</td>\n",
       "      <td>36492.0</td>\n",
       "      <td>Fam_Renda_Faixa4</td>\n",
       "    </tr>\n",
       "    <tr>\n",
       "      <th>2</th>\n",
       "      <td>25</td>\n",
       "      <td>11</td>\n",
       "      <td>Rondônia</td>\n",
       "      <td>2014</td>\n",
       "      <td>Assistência Social</td>\n",
       "      <td>CadÚnico</td>\n",
       "      <td>Quantidade de famílias cadastradas com renda p...</td>\n",
       "      <td>47637.0</td>\n",
       "      <td>Fam_Renda_Faixa4</td>\n",
       "    </tr>\n",
       "    <tr>\n",
       "      <th>3</th>\n",
       "      <td>39</td>\n",
       "      <td>11</td>\n",
       "      <td>Rondônia</td>\n",
       "      <td>2015</td>\n",
       "      <td>Assistência Social</td>\n",
       "      <td>CadÚnico</td>\n",
       "      <td>Quantidade de famílias cadastradas com renda p...</td>\n",
       "      <td>49799.0</td>\n",
       "      <td>Fam_Renda_Faixa4</td>\n",
       "    </tr>\n",
       "    <tr>\n",
       "      <th>4</th>\n",
       "      <td>57</td>\n",
       "      <td>11</td>\n",
       "      <td>Rondônia</td>\n",
       "      <td>2016</td>\n",
       "      <td>Assistência Social</td>\n",
       "      <td>CadÚnico</td>\n",
       "      <td>Quantidade de famílias cadastradas com renda p...</td>\n",
       "      <td>60323.0</td>\n",
       "      <td>Fam_Renda_Faixa4</td>\n",
       "    </tr>\n",
       "  </tbody>\n",
       "</table>\n",
       "</div>"
      ],
      "text/plain": [
       "   _id  co_uf     no_uf   ano            variavel social_categoria  \\\n",
       "0    1     11  Rondônia  2012  Assistência Social         CadÚnico   \n",
       "1   13     11  Rondônia  2013  Assistência Social         CadÚnico   \n",
       "2   25     11  Rondônia  2014  Assistência Social         CadÚnico   \n",
       "3   39     11  Rondônia  2015  Assistência Social         CadÚnico   \n",
       "4   57     11  Rondônia  2016  Assistência Social         CadÚnico   \n",
       "\n",
       "                                 social_subcategoria    valor  \\\n",
       "0  Quantidade de famílias cadastradas com renda p...  24839.0   \n",
       "1  Quantidade de famílias cadastradas com renda p...  36492.0   \n",
       "2  Quantidade de famílias cadastradas com renda p...  47637.0   \n",
       "3  Quantidade de famílias cadastradas com renda p...  49799.0   \n",
       "4  Quantidade de famílias cadastradas com renda p...  60323.0   \n",
       "\n",
       "         Abreviacao  \n",
       "0  Fam_Renda_Faixa4  \n",
       "1  Fam_Renda_Faixa4  \n",
       "2  Fam_Renda_Faixa4  \n",
       "3  Fam_Renda_Faixa4  \n",
       "4  Fam_Renda_Faixa4  "
      ]
     },
     "execution_count": 11,
     "metadata": {},
     "output_type": "execute_result"
    }
   ],
   "source": [
    "# Fazendo um merge entre o df original e o df_abreviacoes\n",
    "df = df.merge(df_abreviacoes, on='social_subcategoria')\n",
    "df.head()"
   ]
  },
  {
   "cell_type": "code",
   "execution_count": 12,
   "metadata": {},
   "outputs": [
    {
     "data": {
      "text/plain": [
       "array(['Assistência Social'], dtype=object)"
      ]
     },
     "execution_count": 12,
     "metadata": {},
     "output_type": "execute_result"
    }
   ],
   "source": [
    "# valores da variavel\n",
    "df['variavel'].unique()"
   ]
  },
  {
   "cell_type": "code",
   "execution_count": 13,
   "metadata": {},
   "outputs": [
    {
     "data": {
      "text/plain": [
       "array(['CadÚnico'], dtype=object)"
      ]
     },
     "execution_count": 13,
     "metadata": {},
     "output_type": "execute_result"
    }
   ],
   "source": [
    "# valores da coluna social_categoria\n",
    "df['social_categoria'].unique()"
   ]
  },
  {
   "cell_type": "code",
   "execution_count": 14,
   "metadata": {},
   "outputs": [
    {
     "data": {
      "text/plain": [
       "array([2012, 2013, 2014, 2015, 2016, 2017, 2018, 2019, 2020, 2021, 2022],\n",
       "      dtype=int64)"
      ]
     },
     "execution_count": 14,
     "metadata": {},
     "output_type": "execute_result"
    }
   ],
   "source": [
    "# valores da coluna ano\n",
    "df['ano'].unique()"
   ]
  },
  {
   "cell_type": "markdown",
   "metadata": {},
   "source": [
    "### Algumas estatísticas descritivas"
   ]
  },
  {
   "cell_type": "markdown",
   "metadata": {},
   "source": [
    "Estatísticas sobre as faixas de rendas"
   ]
  },
  {
   "cell_type": "code",
   "execution_count": 27,
   "metadata": {},
   "outputs": [
    {
     "data": {
      "text/html": [
       "<div>\n",
       "<style scoped>\n",
       "    .dataframe tbody tr th:only-of-type {\n",
       "        vertical-align: middle;\n",
       "    }\n",
       "\n",
       "    .dataframe tbody tr th {\n",
       "        vertical-align: top;\n",
       "    }\n",
       "\n",
       "    .dataframe thead th {\n",
       "        text-align: right;\n",
       "    }\n",
       "</style>\n",
       "<table border=\"1\" class=\"dataframe\">\n",
       "  <thead>\n",
       "    <tr style=\"text-align: right;\">\n",
       "      <th></th>\n",
       "      <th>faixa</th>\n",
       "      <th>media</th>\n",
       "      <th>mediana</th>\n",
       "      <th>desvio_padrao</th>\n",
       "    </tr>\n",
       "  </thead>\n",
       "  <tbody>\n",
       "    <tr>\n",
       "      <th>3</th>\n",
       "      <td>Fam_Renda_Faixa1</td>\n",
       "      <td>520932.976431</td>\n",
       "      <td>332599.0</td>\n",
       "      <td>512154.610140</td>\n",
       "    </tr>\n",
       "    <tr>\n",
       "      <th>4</th>\n",
       "      <td>Fam_Renda_Faixa2</td>\n",
       "      <td>144976.976431</td>\n",
       "      <td>92858.0</td>\n",
       "      <td>149396.257712</td>\n",
       "    </tr>\n",
       "    <tr>\n",
       "      <th>5</th>\n",
       "      <td>Fam_Renda_Faixa3</td>\n",
       "      <td>221935.629630</td>\n",
       "      <td>127153.0</td>\n",
       "      <td>230467.139693</td>\n",
       "    </tr>\n",
       "    <tr>\n",
       "      <th>6</th>\n",
       "      <td>Fam_Renda_Faixa4</td>\n",
       "      <td>191855.286195</td>\n",
       "      <td>119376.0</td>\n",
       "      <td>218538.065018</td>\n",
       "    </tr>\n",
       "  </tbody>\n",
       "</table>\n",
       "</div>"
      ],
      "text/plain": [
       "              faixa          media   mediana  desvio_padrao\n",
       "3  Fam_Renda_Faixa1  520932.976431  332599.0  512154.610140\n",
       "4  Fam_Renda_Faixa2  144976.976431   92858.0  149396.257712\n",
       "5  Fam_Renda_Faixa3  221935.629630  127153.0  230467.139693\n",
       "6  Fam_Renda_Faixa4  191855.286195  119376.0  218538.065018"
      ]
     },
     "execution_count": 27,
     "metadata": {},
     "output_type": "execute_result"
    }
   ],
   "source": [
    "stats_df = df.groupby('Abreviacao').agg({\n",
    "    'valor': ['mean', 'median', 'std']\n",
    "}).reset_index()\n",
    "\n",
    "# Renomear colunas para torná-las mais claras\n",
    "stats_df.columns = ['faixa', 'media', 'mediana', 'desvio_padrao']\n",
    "\n",
    "faixas = ['Fam_Renda_Faixa1', 'Fam_Renda_Faixa2', 'Fam_Renda_Faixa3', 'Fam_Renda_Faixa4']\n",
    "stats_df = stats_df[stats_df['faixa'].isin(faixas)]\n",
    "\n",
    "stats_df\n"
   ]
  },
  {
   "cell_type": "code",
   "execution_count": 30,
   "metadata": {},
   "outputs": [
    {
     "data": {
      "image/png": "[encoded data removed]",
      "text/plain": [
       "<Figure size 864x576 with 1 Axes>"
      ]
     },
     "metadata": {
      "needs_background": "light"
     },
     "output_type": "display_data"
    }
   ],
   "source": [
    "# Boxplot usando o DataFrame original\n",
    "plt.figure(figsize=(12, 8))\n",
    "sns.boxplot(x='Abreviacao', y='valor', data=df[df['Abreviacao'].isin(faixas)], order=faixas)\n",
    "\n",
    "plt.title('Boxplot das Faixas de Renda')\n",
    "plt.xlabel('Faixas de Renda')\n",
    "plt.ylabel('Valor')\n",
    "plt.show()"
   ]
  },
  {
   "cell_type": "markdown",
   "metadata": {},
   "source": [
    "Análise de correlação: O número de cadastros de famílias aumentou ou diminuiu ao longo dos anos?"
   ]
  },
  {
   "cell_type": "code",
   "execution_count": 26,
   "metadata": {},
   "outputs": [
    {
     "data": {
      "text/plain": [
       "0.11106530217302817"
      ]
     },
     "execution_count": 26,
     "metadata": {},
     "output_type": "execute_result"
    }
   ],
   "source": [
    "# dataframe filtrado\n",
    "df_cadastros = df[df['Abreviacao']=='Total_Fam_Cadastradas']\n",
    "\n",
    "# correlação entre as variáveis\n",
    "df_cadastros['ano'].corr(df_cadastros['valor'])"
   ]
  },
  {
   "cell_type": "markdown",
   "metadata": {},
   "source": [
    "### Gráfico 1 - Quantidade de famílias cadastradas por faixa de renda per capita mensal\n",
    "\n",
    "\n",
    "| Descrição Longa                                                                                          | Descrição Curta |\n",
    "|----------------------------------------------------------------------------------------------------------|-----------------|\n",
    "| Quantidade de famílias cadastradas com renda per capita mensal na FAIXA 1*                               | FAIXA 1*        |\n",
    "| Quantidade de famílias cadastradas com renda per capita mensal na FAIXA 2**                              | FAIXA 2**       |\n",
    "| Quantidade de famílias cadastradas com renda per capita mensal na FAIXA 3***                             | FAIXA 3***      |\n",
    "| Quantidade de famílias cadastradas com renda per capita mensal acima de meio salário mínimo (FAIXA 4****)| FAIXA 4****     |\n"
   ]
  },
  {
   "cell_type": "code",
   "execution_count": 59,
   "metadata": {},
   "outputs": [
    {
     "data": {
      "image/png": "[encoded data removed]",
      "text/plain": [
       "<Figure size 864x576 with 1 Axes>"
      ]
     },
     "metadata": {
      "needs_background": "light"
     },
     "output_type": "display_data"
    }
   ],
   "source": [
    "# mapeamento de legendas\n",
    "mapeamento_legendas = {\n",
    "    'Quantidade de famílias cadastradas com renda per capita mensal na FAIXA 1*': 'FAIXA 1*',\n",
    "    'Quantidade de famílias cadastradas com renda per capita mensal na FAIXA 2**': 'FAIXA 2**',\n",
    "    'Quantidade de famílias cadastradas com renda per capita mensal na FAIXA 3***': 'FAIXA 3***',\n",
    "    'Quantidade de famílias cadastradas com renda per capita mensal acima de meio salário mínimo (FAIXA 4****)': 'FAIXA 4****'\n",
    "}\n",
    "\n",
    "faixas_renda = list(mapeamento_legendas.keys())\n",
    "\n",
    "\n",
    "# Filtrando o dataframe para conter apenas as linhas de interesse\n",
    "df_faixas = df[df['social_subcategoria'].isin(faixas_renda)]\n",
    "\n",
    "# Agrupando os dados por subcategoria e somando os valores\n",
    "grouped = df_faixas.groupby('social_subcategoria').sum()['valor']\n",
    "\n",
    "# Simplificando as legendas\n",
    "grouped.index = grouped.index.map(mapeamento_legendas)\n",
    "\n",
    "# Ordenando os valores (opcional)\n",
    "grouped = grouped.sort_values(ascending=False)\n",
    "\n",
    "# Plotando\n",
    "plt.figure(figsize=(12, 8))\n",
    "grouped.plot(kind='bar', color='skyblue', edgecolor='black')\n",
    "plt.title(\"Distribuição das Famílias por Faixa de Renda\")\n",
    "plt.ylabel(\"Número de Famílias\")\n",
    "plt.xlabel(\"Faixa de Renda\")\n",
    "plt.xticks(rotation=45, ha='right')\n",
    "plt.tight_layout()\n",
    "plt.grid(axis='y', linestyle='--', alpha=0.7)\n",
    "plt.show()\n",
    "\n"
   ]
  },
  {
   "cell_type": "markdown",
   "metadata": {},
   "source": [
    "Observa-se que a maioria das famílias cadastradas no programa Bolsa Família tem renda per capita mensal de até meio salário mínimo."
   ]
  },
  {
   "cell_type": "markdown",
   "metadata": {},
   "source": [
    "### Referente ao gráfico 2 - Evolução de famílias cadastradas com membros em situação de trabalho infantil ao longo dos anos"
   ]
  },
  {
   "cell_type": "code",
   "execution_count": 60,
   "metadata": {},
   "outputs": [
    {
     "data": {
      "text/html": [
       "<div>\n",
       "<style scoped>\n",
       "    .dataframe tbody tr th:only-of-type {\n",
       "        vertical-align: middle;\n",
       "    }\n",
       "\n",
       "    .dataframe tbody tr th {\n",
       "        vertical-align: top;\n",
       "    }\n",
       "\n",
       "    .dataframe thead th {\n",
       "        text-align: right;\n",
       "    }\n",
       "</style>\n",
       "<table border=\"1\" class=\"dataframe\">\n",
       "  <thead>\n",
       "    <tr style=\"text-align: right;\">\n",
       "      <th></th>\n",
       "      <th>_id</th>\n",
       "      <th>co_uf</th>\n",
       "      <th>no_uf</th>\n",
       "      <th>ano</th>\n",
       "      <th>variavel</th>\n",
       "      <th>social_categoria</th>\n",
       "      <th>social_subcategoria</th>\n",
       "      <th>valor</th>\n",
       "      <th>Abreviacao</th>\n",
       "    </tr>\n",
       "  </thead>\n",
       "  <tbody>\n",
       "    <tr>\n",
       "      <th>3836</th>\n",
       "      <td>1298</td>\n",
       "      <td>21</td>\n",
       "      <td>Maranhão</td>\n",
       "      <td>2015</td>\n",
       "      <td>Assistência Social</td>\n",
       "      <td>CadÚnico</td>\n",
       "      <td>Quantidade de famílias cadastradas com algum m...</td>\n",
       "      <td>20461.0</td>\n",
       "      <td>Fam_Cadas_Trab_Infantil</td>\n",
       "    </tr>\n",
       "    <tr>\n",
       "      <th>3837</th>\n",
       "      <td>1316</td>\n",
       "      <td>21</td>\n",
       "      <td>Maranhão</td>\n",
       "      <td>2016</td>\n",
       "      <td>Assistência Social</td>\n",
       "      <td>CadÚnico</td>\n",
       "      <td>Quantidade de famílias cadastradas com algum m...</td>\n",
       "      <td>14655.0</td>\n",
       "      <td>Fam_Cadas_Trab_Infantil</td>\n",
       "    </tr>\n",
       "    <tr>\n",
       "      <th>3838</th>\n",
       "      <td>1334</td>\n",
       "      <td>21</td>\n",
       "      <td>Maranhão</td>\n",
       "      <td>2017</td>\n",
       "      <td>Assistência Social</td>\n",
       "      <td>CadÚnico</td>\n",
       "      <td>Quantidade de famílias cadastradas com algum m...</td>\n",
       "      <td>9697.0</td>\n",
       "      <td>Fam_Cadas_Trab_Infantil</td>\n",
       "    </tr>\n",
       "    <tr>\n",
       "      <th>3839</th>\n",
       "      <td>1352</td>\n",
       "      <td>21</td>\n",
       "      <td>Maranhão</td>\n",
       "      <td>2018</td>\n",
       "      <td>Assistência Social</td>\n",
       "      <td>CadÚnico</td>\n",
       "      <td>Quantidade de famílias cadastradas com algum m...</td>\n",
       "      <td>5520.0</td>\n",
       "      <td>Fam_Cadas_Trab_Infantil</td>\n",
       "    </tr>\n",
       "    <tr>\n",
       "      <th>3840</th>\n",
       "      <td>1370</td>\n",
       "      <td>21</td>\n",
       "      <td>Maranhão</td>\n",
       "      <td>2019</td>\n",
       "      <td>Assistência Social</td>\n",
       "      <td>CadÚnico</td>\n",
       "      <td>Quantidade de famílias cadastradas com algum m...</td>\n",
       "      <td>2533.0</td>\n",
       "      <td>Fam_Cadas_Trab_Infantil</td>\n",
       "    </tr>\n",
       "  </tbody>\n",
       "</table>\n",
       "</div>"
      ],
      "text/plain": [
       "       _id  co_uf     no_uf   ano            variavel social_categoria  \\\n",
       "3836  1298     21  Maranhão  2015  Assistência Social         CadÚnico   \n",
       "3837  1316     21  Maranhão  2016  Assistência Social         CadÚnico   \n",
       "3838  1334     21  Maranhão  2017  Assistência Social         CadÚnico   \n",
       "3839  1352     21  Maranhão  2018  Assistência Social         CadÚnico   \n",
       "3840  1370     21  Maranhão  2019  Assistência Social         CadÚnico   \n",
       "\n",
       "                                    social_subcategoria    valor  \\\n",
       "3836  Quantidade de famílias cadastradas com algum m...  20461.0   \n",
       "3837  Quantidade de famílias cadastradas com algum m...  14655.0   \n",
       "3838  Quantidade de famílias cadastradas com algum m...   9697.0   \n",
       "3839  Quantidade de famílias cadastradas com algum m...   5520.0   \n",
       "3840  Quantidade de famílias cadastradas com algum m...   2533.0   \n",
       "\n",
       "                   Abreviacao  \n",
       "3836  Fam_Cadas_Trab_Infantil  \n",
       "3837  Fam_Cadas_Trab_Infantil  \n",
       "3838  Fam_Cadas_Trab_Infantil  \n",
       "3839  Fam_Cadas_Trab_Infantil  \n",
       "3840  Fam_Cadas_Trab_Infantil  "
      ]
     },
     "execution_count": 60,
     "metadata": {},
     "output_type": "execute_result"
    }
   ],
   "source": [
    "# filtrando dados do nordeste \n",
    "estados_nordeste = ['Maranhão', 'Piauí', 'Ceará', 'Rio Grande do Norte', 'Paraíba', \n",
    "                    'Pernambuco', 'Alagoas', 'Sergipe', 'Bahia']\n",
    "\n",
    "# dataframe com dados do nordeste\n",
    "df_nordeste = df[df['no_uf'].isin(estados_nordeste)]\n",
    "\n",
    "# filtrando as linhas de interesse\n",
    "df_nordeste = df_nordeste[df_nordeste['Abreviacao'] == 'Fam_Cadas_Trab_Infantil']\n",
    "\n",
    "df_nordeste.head()"
   ]
  },
  {
   "cell_type": "code",
   "execution_count": 61,
   "metadata": {},
   "outputs": [
    {
     "data": {
      "text/html": [
       "<div>\n",
       "<style scoped>\n",
       "    .dataframe tbody tr th:only-of-type {\n",
       "        vertical-align: middle;\n",
       "    }\n",
       "\n",
       "    .dataframe tbody tr th {\n",
       "        vertical-align: top;\n",
       "    }\n",
       "\n",
       "    .dataframe thead th {\n",
       "        text-align: right;\n",
       "    }\n",
       "</style>\n",
       "<table border=\"1\" class=\"dataframe\">\n",
       "  <thead>\n",
       "    <tr style=\"text-align: right;\">\n",
       "      <th>ano</th>\n",
       "      <th>2015</th>\n",
       "      <th>2016</th>\n",
       "      <th>2017</th>\n",
       "      <th>2018</th>\n",
       "      <th>2019</th>\n",
       "      <th>2020</th>\n",
       "      <th>2021</th>\n",
       "      <th>2022</th>\n",
       "    </tr>\n",
       "    <tr>\n",
       "      <th>no_uf</th>\n",
       "      <th></th>\n",
       "      <th></th>\n",
       "      <th></th>\n",
       "      <th></th>\n",
       "      <th></th>\n",
       "      <th></th>\n",
       "      <th></th>\n",
       "      <th></th>\n",
       "    </tr>\n",
       "  </thead>\n",
       "  <tbody>\n",
       "    <tr>\n",
       "      <th>Alagoas</th>\n",
       "      <td>7085.0</td>\n",
       "      <td>5421.0</td>\n",
       "      <td>3528.0</td>\n",
       "      <td>2196.0</td>\n",
       "      <td>1107.0</td>\n",
       "      <td>725.0</td>\n",
       "      <td>365.0</td>\n",
       "      <td>210.0</td>\n",
       "    </tr>\n",
       "    <tr>\n",
       "      <th>Bahia</th>\n",
       "      <td>29282.0</td>\n",
       "      <td>19604.0</td>\n",
       "      <td>12381.0</td>\n",
       "      <td>8419.0</td>\n",
       "      <td>3935.0</td>\n",
       "      <td>2431.0</td>\n",
       "      <td>1539.0</td>\n",
       "      <td>883.0</td>\n",
       "    </tr>\n",
       "    <tr>\n",
       "      <th>Ceará</th>\n",
       "      <td>4827.0</td>\n",
       "      <td>3198.0</td>\n",
       "      <td>2050.0</td>\n",
       "      <td>1271.0</td>\n",
       "      <td>521.0</td>\n",
       "      <td>280.0</td>\n",
       "      <td>141.0</td>\n",
       "      <td>113.0</td>\n",
       "    </tr>\n",
       "    <tr>\n",
       "      <th>Maranhão</th>\n",
       "      <td>20461.0</td>\n",
       "      <td>14655.0</td>\n",
       "      <td>9697.0</td>\n",
       "      <td>5520.0</td>\n",
       "      <td>2533.0</td>\n",
       "      <td>1640.0</td>\n",
       "      <td>1017.0</td>\n",
       "      <td>685.0</td>\n",
       "    </tr>\n",
       "    <tr>\n",
       "      <th>Paraíba</th>\n",
       "      <td>13335.0</td>\n",
       "      <td>9571.0</td>\n",
       "      <td>6385.0</td>\n",
       "      <td>4158.0</td>\n",
       "      <td>2122.0</td>\n",
       "      <td>1410.0</td>\n",
       "      <td>899.0</td>\n",
       "      <td>655.0</td>\n",
       "    </tr>\n",
       "    <tr>\n",
       "      <th>Pernambuco</th>\n",
       "      <td>19928.0</td>\n",
       "      <td>13051.0</td>\n",
       "      <td>8032.0</td>\n",
       "      <td>4874.0</td>\n",
       "      <td>2192.0</td>\n",
       "      <td>1399.0</td>\n",
       "      <td>818.0</td>\n",
       "      <td>455.0</td>\n",
       "    </tr>\n",
       "    <tr>\n",
       "      <th>Piauí</th>\n",
       "      <td>9375.0</td>\n",
       "      <td>6768.0</td>\n",
       "      <td>4697.0</td>\n",
       "      <td>3411.0</td>\n",
       "      <td>1863.0</td>\n",
       "      <td>1249.0</td>\n",
       "      <td>826.0</td>\n",
       "      <td>612.0</td>\n",
       "    </tr>\n",
       "    <tr>\n",
       "      <th>Rio Grande do Norte</th>\n",
       "      <td>9494.0</td>\n",
       "      <td>5764.0</td>\n",
       "      <td>3569.0</td>\n",
       "      <td>2349.0</td>\n",
       "      <td>1201.0</td>\n",
       "      <td>778.0</td>\n",
       "      <td>508.0</td>\n",
       "      <td>340.0</td>\n",
       "    </tr>\n",
       "    <tr>\n",
       "      <th>Sergipe</th>\n",
       "      <td>3521.0</td>\n",
       "      <td>2164.0</td>\n",
       "      <td>1223.0</td>\n",
       "      <td>809.0</td>\n",
       "      <td>433.0</td>\n",
       "      <td>279.0</td>\n",
       "      <td>224.0</td>\n",
       "      <td>194.0</td>\n",
       "    </tr>\n",
       "  </tbody>\n",
       "</table>\n",
       "</div>"
      ],
      "text/plain": [
       "ano                     2015     2016     2017    2018    2019    2020  \\\n",
       "no_uf                                                                    \n",
       "Alagoas               7085.0   5421.0   3528.0  2196.0  1107.0   725.0   \n",
       "Bahia                29282.0  19604.0  12381.0  8419.0  3935.0  2431.0   \n",
       "Ceará                 4827.0   3198.0   2050.0  1271.0   521.0   280.0   \n",
       "Maranhão             20461.0  14655.0   9697.0  5520.0  2533.0  1640.0   \n",
       "Paraíba              13335.0   9571.0   6385.0  4158.0  2122.0  1410.0   \n",
       "Pernambuco           19928.0  13051.0   8032.0  4874.0  2192.0  1399.0   \n",
       "Piauí                 9375.0   6768.0   4697.0  3411.0  1863.0  1249.0   \n",
       "Rio Grande do Norte   9494.0   5764.0   3569.0  2349.0  1201.0   778.0   \n",
       "Sergipe               3521.0   2164.0   1223.0   809.0   433.0   279.0   \n",
       "\n",
       "ano                    2021   2022  \n",
       "no_uf                               \n",
       "Alagoas               365.0  210.0  \n",
       "Bahia                1539.0  883.0  \n",
       "Ceará                 141.0  113.0  \n",
       "Maranhão             1017.0  685.0  \n",
       "Paraíba               899.0  655.0  \n",
       "Pernambuco            818.0  455.0  \n",
       "Piauí                 826.0  612.0  \n",
       "Rio Grande do Norte   508.0  340.0  \n",
       "Sergipe               224.0  194.0  "
      ]
     },
     "execution_count": 61,
     "metadata": {},
     "output_type": "execute_result"
    }
   ],
   "source": [
    "# agrupando os dados por ano e somando os valores\n",
    "grouped = df_nordeste.groupby(['no_uf', 'ano'])['valor'].sum().unstack()\n",
    "grouped"
   ]
  },
  {
   "cell_type": "code",
   "execution_count": 62,
   "metadata": {},
   "outputs": [
    {
     "data": {
      "image/png": "[encoded data removed]",
      "text/plain": [
       "<Figure size 432x288 with 1 Axes>"
      ]
     },
     "metadata": {
      "needs_background": "light"
     },
     "output_type": "display_data"
    }
   ],
   "source": [
    "\n",
    "# Para cada estado do Nordeste, plotar a evolução ao longo dos anos\n",
    "for estado in estados_nordeste:\n",
    "    plt.plot(grouped.columns, grouped.loc[estado], label=estado, marker='o')\n",
    "\n",
    "plt.title('Evolução de famílias com trabalho infantil no Nordeste ao longo dos anos')\n",
    "plt.xlabel('Ano')\n",
    "plt.ylabel('Quantidade de famílias')\n",
    "plt.legend()\n",
    "plt.grid(True, which='both', linestyle='--', linewidth=0.5)\n",
    "plt.tight_layout()\n",
    "plt.show()\n"
   ]
  },
  {
   "cell_type": "markdown",
   "metadata": {},
   "source": [
    "Observa-se que a quantidade de famílias cadastradas com membros em situação de trabalho infantil vem diminuindo ao longo dos anos."
   ]
  },
  {
   "cell_type": "markdown",
   "metadata": {},
   "source": [
    "**Referências**\n",
    "\n",
    "ChatGPT me deu ideia de fazer o primeiro gráfico e me deu o código de como fazer.\n",
    "\n",
    "A ideia do segundo gráfico foi minha, mas o ChatGPT que forneceu o código.\n",
    "\n",
    "Só tive a ajuda do ChatGPT mesmo.\n",
    "\n",
    "Fonte dos dados: *https://dados.gov.br/dados/conjuntos-dados/dados-sociais*, *Dados do CadÚnico por estado*"
   ]
  }
 ],
 "metadata": {
  "kernelspec": {
   "display_name": "ambiente",
   "language": "python",
   "name": "ambiente"
  },
  "language_info": {
   "codemirror_mode": {
    "name": "ipython",
    "version": 3
   },
   "file_extension": ".py",
   "mimetype": "text/x-python",
   "name": "python",
   "nbconvert_exporter": "python",
   "pygments_lexer": "ipython3",
   "version": "3.10.4"
  },
  "orig_nbformat": 4
 },
 "nbformat": 4,
 "nbformat_minor": 2
}
